{
 "cells": [
  {
   "cell_type": "code",
   "execution_count": null,
   "metadata": {},
   "outputs": [],
   "source": [
    "import pandas as pd\n",
    "import numpy as np\n",
    "import matplotlib.pyplot as plt\n",
    "import seaborn as sns\n",
    "%matplotlib inline"
   ]
  },
  {
   "cell_type": "code",
   "execution_count": null,
   "metadata": {},
   "outputs": [],
   "source": [
    "hipp_train = pd.read_csv('train_radiomics_hipocamp.csv')\n",
    "hipp_test = pd.read_csv('test_radiomics_hipocamp.csv')\n",
    "df = pd.read_csv('train_radiomics_hipocamp.csv')"
   ]
  },
  {
   "cell_type": "code",
   "execution_count": null,
   "metadata": {},
   "outputs": [],
   "source": [
    "df.dtypes\n",
    "df.info()\n",
    "df.describe()\n"
   ]
  },
  {
   "cell_type": "code",
   "execution_count": null,
   "metadata": {},
   "outputs": [],
   "source": [
    "df.head()"
   ]
  },
  {
   "cell_type": "code",
   "execution_count": null,
   "metadata": {},
   "outputs": [],
   "source": [
    "df.isna().any()\n",
    "print(df.isna().sum())"
   ]
  },
  {
   "cell_type": "code",
   "execution_count": null,
   "metadata": {},
   "outputs": [],
   "source": [
    "print(df.duplicated().sum())"
   ]
  },
  {
   "cell_type": "code",
   "execution_count": null,
   "metadata": {},
   "outputs": [],
   "source": [
    "# print(df['Target'].value_counts())\n",
    "df['diagnostics_Image-original_Mean'].hist()\n",
    "plt.title('Histogram of diagnostics_Image-original_Mean')\n",
    "plt.xlabel('Mean Value')\n",
    "plt.ylabel('Frequency')\n",
    "plt.show()"
   ]
  },
  {
   "cell_type": "code",
   "execution_count": null,
   "metadata": {},
   "outputs": [],
   "source": [
    "sns.heatmap(df.isnull(),yticklabels=False ,cbar=False, cmap='viridis')\n",
    "plt.show()"
   ]
  },
  {
   "cell_type": "code",
   "execution_count": null,
   "metadata": {},
   "outputs": [],
   "source": [
    "sex_counts = df['Sex'].value_counts()\n",
    "print(sex_counts)\n",
    "\n",
    "# secalhar o 1 é mulheres e o 0 é homens tenho que ver isto melhor"
   ]
  },
  {
   "cell_type": "code",
   "execution_count": null,
   "metadata": {},
   "outputs": [],
   "source": [
    "#TEMOS DE TORNAR OS OBJETOS EM VALORES NÙMERICOS PARA PUDERMOS UTILIZAR OS MODELOS DE MACHINE LEARNING\n",
    "from sklearn.preprocessing import OneHotEncoder\n",
    "\n",
    "\n",
    "categorical_columns = df.select_dtypes(include=['object']).columns.tolist()\n",
    "\n",
    "#Initialize OneHotEncoder\n",
    "encoder = OneHotEncoder(sparse_output=False)\n",
    "\n",
    "# Apply one-hot encoding to the categorical columns\n",
    "one_hot_encoded = encoder.fit_transform(df[categorical_columns])\n",
    "\n",
    "#Create a DataFrame with the one-hot encoded columns\n",
    "#We use get_feature_names_out() to get the column names for the encoded data\n",
    "one_hot_df = pd.DataFrame(one_hot_encoded, columns=encoder.get_feature_names_out(categorical_columns))\n",
    "\n",
    "\n",
    "print(one_hot_df.head())\n",
    "\n"
   ]
  },
  {
   "cell_type": "code",
   "execution_count": null,
   "metadata": {},
   "outputs": [],
   "source": [
    "df_encoded = pd.concat([df, one_hot_df], axis=1)\n",
    "\n",
    "# Drop the original categorical columns\n",
    "df_encoded = df_encoded.drop(categorical_columns, axis=1)\n",
    "\n",
    "# Display the resulting dataframe\n",
    "print(f\"Encoded data : \\n{df_encoded}\")"
   ]
  },
  {
   "cell_type": "code",
   "execution_count": null,
   "metadata": {},
   "outputs": [],
   "source": [
    "\n",
    "\n",
    "sns.boxplot(x='diagnostics_Image-original_Maximum', y='Transition', data=df)\n",
    "plt.show()\n",
    "\n",
    "print(df)"
   ]
  },
  {
   "cell_type": "code",
   "execution_count": null,
   "metadata": {},
   "outputs": [],
   "source": [
    "contador = 0 \n",
    "for column in hipp_test.columns:\n",
    "    if hipp_test[column].nunique() == 1: \n",
    "        print(f\"A coluna: '{column}' tem apenas um valor único.\")\n",
    "        contador +=1\n",
    "print(f\"Colunas com valor 1:{contador}\")"
   ]
  },
  {
   "cell_type": "code",
   "execution_count": null,
   "metadata": {},
   "outputs": [],
   "source": [
    "#Verificar as colunas que tem apenas 1 valor \n",
    "contador = 0\n",
    "for column in hipp_train.columns:\n",
    "    if hipp_train[column].nunique() == 1: \n",
    "        print(f\"A coluna: '{column}' tem apenas 1 valor único.\")\n",
    "        contador +=1 \n",
    "print(f\"Numero total de colunas de um valor: '{contador}'\")"
   ]
  },
  {
   "cell_type": "code",
   "execution_count": null,
   "metadata": {},
   "outputs": [],
   "source": [
    "hipp_train_c = hipp_train.loc[:, hipp_train.nunique() > 1]\n",
    "colunas_removidas = hipp_train.columns[hipp_train.nunique() == 1]\n",
    "print(f\"Colunas removidas: {colunas_removidas}\")"
   ]
  },
  {
   "cell_type": "code",
   "execution_count": null,
   "metadata": {},
   "outputs": [],
   "source": [
    "#Remover os valores nunique de treino\n",
    "hipp_test_c = hipp_test.loc[:, hipp_test.nunique() > 1]\n",
    "colunas_removidas = hipp_test.columns[hipp_test.nunique() == 1]\n",
    "print(f\"As colunas que foram removidas '{colunas_removidas}'\")"
   ]
  },
  {
   "cell_type": "code",
   "execution_count": null,
   "metadata": {},
   "outputs": [],
   "source": [
    "mapping = {\n",
    "    'CN-CN': 1,  # Estado Normal\n",
    "    'CN-MCI': 2,  # Estado Intermediário\n",
    "    'MCI-MCI': 2,  # Estado Intermediário\n",
    "    'MCI-AD': 3,  # Demência\n",
    "    'AD-AD': 3   # Demência\n",
    "}\n",
    "\n",
    "# Aplicar o mapeamento à coluna 'Transition'\n",
    "hipp_train['Transition'] = hipp_train['Transition'].map(mapping)\n",
    "\n",
    "# Verificar o resultado\n",
    "# print(hipp_train[['Transition', 'Transition_Numeric']].head())\n",
    "\n"
   ]
  },
  {
   "cell_type": "code",
   "execution_count": null,
   "metadata": {},
   "outputs": [],
   "source": [
    "hipp_train.head()"
   ]
  },
  {
   "cell_type": "code",
   "execution_count": null,
   "metadata": {},
   "outputs": [],
   "source": [
    "# Separate features (X) and target labels (y) USAR ISTO PARA O MODELO DE MACHINE LEARNING\n",
    "X_train = hipp_train.drop(columns=['ID','Label'])  # Replace 'Label' with the actual column name for your target\n",
    "y_train = hipp_train['Label']                 # Target variable in the training set\n",
    "\n",
    "X_test = hipp_test.drop(columns=['ID','Label'])    # Features only for testing\n",
    "y_test = hipp_test['Label']                   # True labels for testing (for evaluation only)\n",
    "\n",
    "#X_train contains the features (input variables) for training the model.\n",
    "#y_train contains the target labels (output) that correspond to each row in X_train.\n",
    "#X_test contains the features for testing how well the model performs on unseen data.\n",
    "#y_test contains the true labels for the test data, which you use to evaluate the model’s predictions."
   ]
  },
  {
   "cell_type": "code",
   "execution_count": null,
   "metadata": {},
   "outputs": [],
   "source": [
    "from sklearn.model_selection import train_test_split\n",
    "\n",
    "#Atençao isto é só para testar o split, depois temos de fazer o split com o dataset todo\n",
    "colunas_remover = ['Image', 'diagnostics_Image-original_Hash', 'diagnostics_Mask-original_Hash',\n",
    "                   'diagnostics_Mask-original_BoundingBox', 'diagnostics_Mask-original_CenterOfMassIndex',\n",
    "                   'diagnostics_Mask-original_CenterOfMass', 'Mask']\n",
    "hipp_train = hipp_train.drop(columns=colunas_remover, errors='ignore').loc[:, hipp_train.nunique() > 1]\n",
    "hipp_test = hipp_test.drop(columns=colunas_remover, errors='ignore').loc[:, hipp_test.nunique() > 1]\n",
    "\n",
    "\n",
    "X_train = hipp_train.drop(['Transition', 'ID'], axis=1)\n",
    "y_train = hipp_train['Transition']\n",
    "\n",
    "# Dividir o conjunto de treino em treino e teste\n",
    "X_train_split, X_test, y_train_split, y_test = train_test_split(X_train, y_train, test_size=0.3, random_state=2021)"
   ]
  },
  {
   "cell_type": "code",
   "execution_count": null,
   "metadata": {},
   "outputs": [],
   "source": [
    "X_train.head()"
   ]
  },
  {
   "cell_type": "code",
   "execution_count": null,
   "metadata": {},
   "outputs": [],
   "source": [
    "y_train.head()"
   ]
  },
  {
   "cell_type": "code",
   "execution_count": null,
   "metadata": {},
   "outputs": [],
   "source": [
    "# Predict on the test set\n",
    "from sklearn.metrics import accuracy_score, f1_score\n",
    "from sklearn.svm import SVC\n",
    "from sklearn.tree import DecisionTreeClassifier\n",
    "# Initialize the SVM classifier\n",
    "clf = DecisionTreeClassifier(random_state=2021)\n",
    "\n",
    "# Train the model on the training set\n",
    "clf.fit(X_train, y_train)\n",
    "\n",
    "y_pred = clf.predict(X_test)\n",
    "# could not convert string to float: '/notebooks/disk2/DS2_FreeSurfer/ADNI_006_S_0681_MR_MP-RAGE__br_raw_20060831143335593_1_S18451_I23677_generate/mri/brain.nii.gz\n",
    "# Evaluate the model's performance\n",
    "#accuracy = accuracy_score(y_test, y_pred)\n",
    "# print(f\"Accuracy: {accuracy:.2f}\")\n",
    "\n",
    "f1 = f1_score(y_test, y_pred, average='weighted')\n",
    "\n",
    "print(\"F1 Score:\", f1)\n"
   ]
  },
  {
   "cell_type": "code",
   "execution_count": null,
   "metadata": {},
   "outputs": [],
   "source": [
    "accuracy = accuracy_score(y_test, y_pred)\n",
    "print(f\"Accuracy: {accuracy:.2f}\")"
   ]
  },
  {
   "cell_type": "code",
   "execution_count": null,
   "metadata": {},
   "outputs": [],
   "source": [
    "import pandas as pd\n",
    "\n",
    "# Example predictions\n",
    "y_pred = [\"CN-CN\"] * 100  # Replace with actual predictions\n",
    "\n",
    "# Create a DataFrame with RowId and Result columns\n",
    "df = pd.DataFrame({\n",
    "    \"RowId\": range(1, len(y_pred) + 1),  # RowId starting from 1\n",
    "    \"Result\": y_pred                     # Model predictions\n",
    "})\n",
    "\n",
    "# Save the DataFrame to a CSV file\n",
    "df.to_csv(\"predictions.csv\", index=False)\n",
    "\n",
    "print(\"Predictions saved to 'predictions.csv'\")"
   ]
  }
 ],
 "metadata": {
  "kernelspec": {
   "display_name": "envName",
   "language": "python",
   "name": "python3"
  },
  "language_info": {
   "codemirror_mode": {
    "name": "ipython",
    "version": 3
   },
   "file_extension": ".py",
   "mimetype": "text/x-python",
   "name": "python",
   "nbconvert_exporter": "python",
   "pygments_lexer": "ipython3",
   "version": "3.12.4"
  }
 },
 "nbformat": 4,
 "nbformat_minor": 2
}
