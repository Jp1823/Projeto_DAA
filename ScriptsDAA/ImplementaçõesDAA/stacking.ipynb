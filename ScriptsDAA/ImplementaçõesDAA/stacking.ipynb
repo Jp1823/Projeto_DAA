{
 "cells": [
  {
   "cell_type": "code",
   "execution_count": 1,
   "metadata": {},
   "outputs": [],
   "source": [
    "from sklearn.linear_model import LogisticRegression\n",
    "from sklearn.model_selection import cross_val_predict, train_test_split, StratifiedKFold\n",
    "from sklearn.ensemble import StackingClassifier, RandomForestClassifier\n",
    "from sklearn.svm import SVC\n",
    "from xgboost import XGBClassifier\n",
    "from sklearn.metrics import accuracy_score, classification_report\n",
    "import numpy as np\n",
    "import pandas as pd"
   ]
  },
  {
   "cell_type": "code",
   "execution_count": 2,
   "metadata": {},
   "outputs": [],
   "source": [
    "hipp_train = pd.read_csv('train_radiomics_hipocamp.csv', na_filter=False)\n",
    "hipp_test = pd.read_csv('test_radiomics_hipocamp.csv', na_filter=False)\n",
    "\n",
    "# Remove irrelevant columns\n",
    "colunas_remover = ['Image', 'diagnostics_Image-original_Hash', 'diagnostics_Mask-original_Hash',\n",
    "                   'diagnostics_Mask-original_BoundingBox', 'diagnostics_Mask-original_CenterOfMassIndex',\n",
    "                   'diagnostics_Mask-original_CenterOfMass', 'Mask']\n",
    "hipp_train_c = hipp_train.drop(columns=colunas_remover, errors='ignore').loc[:, hipp_train.nunique() > 1]\n",
    "hipp_test_c = hipp_test.drop(columns=colunas_remover, errors='ignore').loc[:, hipp_test.nunique() > 1]"
   ]
  },
  {
   "cell_type": "code",
   "execution_count": 3,
   "metadata": {},
   "outputs": [],
   "source": [
    "# Map 'Transition' column to numeric values\n",
    "mapping = {\n",
    "    'CN-CN': 0,  # Normal\n",
    "    'CN-MCI': 1,  # Intermediate\n",
    "    'MCI-MCI': 2,  # Intermediate\n",
    "    'MCI-AD': 3,  # Dementia\n",
    "    'AD-AD': 4    # Dementia\n",
    "}\n",
    "hipp_train_c['Transition'] = hipp_train_c['Transition'].map(mapping)\n",
    "\n",
    "# Create bins for 'Age'\n",
    "bins = [55, 65, 70, 75, 78, 81, 84, 86, 88, np.inf]\n",
    "labels = ['55-65', '65-70', '70-75', '75-78', '78-81', '81-84', '84-86', '86-88', '88+']\n",
    "\n",
    "# Apply binning\n",
    "hipp_train_c['Age_Bin'] = pd.cut(hipp_train_c['Age'], bins=bins, labels=labels, right=False)\n",
    "hipp_test_c['Age_Bin'] = pd.cut(hipp_test_c['Age'], bins=bins, labels=labels, right=False)\n",
    "\n",
    "# Create binary columns for each age range\n",
    "for label in labels:\n",
    "    hipp_train_c[label] = (hipp_train_c['Age_Bin'] == label).astype(int)\n",
    "    hipp_test_c[label] = (hipp_test_c['Age_Bin'] == label).astype(int)\n",
    "\n",
    "# Remove original 'Age' and 'Age_Bin' columns\n",
    "hipp_train_c.drop(columns=['Age','Age_Bin'], inplace=True)\n",
    "hipp_test_c.drop(columns=['Age', 'Age_Bin'], inplace=True)"
   ]
  },
  {
   "cell_type": "code",
   "execution_count": 4,
   "metadata": {},
   "outputs": [],
   "source": [
    "X_train = hipp_train_c.drop(['Transition', 'ID'], axis=1)\n",
    "y_train = hipp_train_c['Transition']\n",
    "\n",
    "# Split into training and validation sets\n",
    "X_train_split, X_test_split, y_train_split, y_test_split = train_test_split(\n",
    "    X_train, y_train, test_size=0.2, random_state=2022\n",
    ")"
   ]
  },
  {
   "cell_type": "code",
   "execution_count": 5,
   "metadata": {},
   "outputs": [
    {
     "name": "stdout",
     "output_type": "stream",
     "text": [
      "Number of selected features: 744\n",
      "Selected features: ['diagnostics_Image-original_Mean', 'original_shape_Elongation', 'original_shape_MinorAxisLength', 'original_shape_Sphericity', 'original_shape_SurfaceVolumeRatio', 'original_shape_VoxelVolume', 'original_firstorder_90Percentile', 'original_firstorder_Energy', 'original_firstorder_Kurtosis', 'original_firstorder_Mean', 'original_firstorder_RobustMeanAbsoluteDeviation', 'original_firstorder_RootMeanSquared', 'original_firstorder_Variance', 'original_glcm_ClusterShade', 'original_glcm_ClusterTendency', 'original_glcm_DifferenceAverage', 'original_glcm_DifferenceEntropy', 'original_glcm_DifferenceVariance', 'original_glcm_Idm', 'original_glcm_Idn', 'original_glcm_JointAverage', 'original_glcm_MCC', 'original_glcm_MaximumProbability', 'original_glcm_SumEntropy', 'original_glcm_SumSquares', 'original_gldm_DependenceNonUniformity', 'original_gldm_DependenceVariance', 'original_gldm_HighGrayLevelEmphasis', 'original_gldm_SmallDependenceHighGrayLevelEmphasis', 'original_glrlm_LongRunLowGrayLevelEmphasis', 'original_glrlm_RunEntropy', 'original_glrlm_RunLengthNonUniformityNormalized', 'original_glrlm_ShortRunHighGrayLevelEmphasis', 'original_glrlm_ShortRunLowGrayLevelEmphasis', 'original_glszm_GrayLevelNonUniformityNormalized', 'original_glszm_HighGrayLevelZoneEmphasis', 'original_glszm_LargeAreaEmphasis', 'original_glszm_LargeAreaHighGrayLevelEmphasis', 'original_glszm_LargeAreaLowGrayLevelEmphasis', 'original_glszm_LowGrayLevelZoneEmphasis', 'original_glszm_SizeZoneNonUniformity', 'original_glszm_SizeZoneNonUniformityNormalized', 'original_glszm_SmallAreaEmphasis', 'original_glszm_SmallAreaHighGrayLevelEmphasis', 'original_ngtdm_Busyness', 'original_ngtdm_Coarseness', 'original_ngtdm_Strength', 'wavelet-LLH_firstorder_Kurtosis', 'wavelet-LLH_firstorder_Minimum', 'wavelet-LLH_firstorder_Range', 'wavelet-LLH_firstorder_RootMeanSquared', 'wavelet-LLH_firstorder_Skewness', 'wavelet-LLH_glcm_Correlation', 'wavelet-LLH_glcm_Idmn', 'wavelet-LLH_glcm_Idn', 'wavelet-LLH_glcm_JointEnergy', 'wavelet-LLH_glcm_JointEntropy', 'wavelet-LLH_glcm_MCC', 'wavelet-LLH_gldm_DependenceEntropy', 'wavelet-LLH_gldm_DependenceVariance', 'wavelet-LLH_gldm_HighGrayLevelEmphasis', 'wavelet-LLH_gldm_LargeDependenceHighGrayLevelEmphasis', 'wavelet-LLH_gldm_LargeDependenceLowGrayLevelEmphasis', 'wavelet-LLH_glrlm_GrayLevelNonUniformity', 'wavelet-LLH_glrlm_GrayLevelNonUniformityNormalized', 'wavelet-LLH_glrlm_RunLengthNonUniformity', 'wavelet-LLH_glrlm_RunLengthNonUniformityNormalized', 'wavelet-LLH_glrlm_ShortRunEmphasis', 'wavelet-LLH_glszm_GrayLevelNonUniformityNormalized', 'wavelet-LLH_glszm_GrayLevelVariance', 'wavelet-LLH_glszm_LowGrayLevelZoneEmphasis', 'wavelet-LLH_glszm_SizeZoneNonUniformity', 'wavelet-LLH_glszm_SmallAreaEmphasis', 'wavelet-LLH_glszm_SmallAreaHighGrayLevelEmphasis', 'wavelet-LLH_glszm_SmallAreaLowGrayLevelEmphasis', 'wavelet-LLH_glszm_ZoneEntropy', 'wavelet-LLH_glszm_ZoneVariance', 'wavelet-LLH_ngtdm_Coarseness', 'wavelet-LLH_ngtdm_Contrast', 'wavelet-LLH_ngtdm_Strength', 'wavelet-LHL_firstorder_InterquartileRange', 'wavelet-LHL_firstorder_Kurtosis', 'wavelet-LHL_firstorder_Maximum', 'wavelet-LHL_firstorder_MeanAbsoluteDeviation', 'wavelet-LHL_firstorder_Skewness', 'wavelet-LHL_firstorder_Uniformity', 'wavelet-LHL_glcm_ClusterProminence', 'wavelet-LHL_glcm_ClusterTendency', 'wavelet-LHL_glcm_Contrast', 'wavelet-LHL_glcm_Correlation', 'wavelet-LHL_glcm_Idm', 'wavelet-LHL_glcm_Idmn', 'wavelet-LHL_glcm_JointEnergy', 'wavelet-LHL_glcm_JointEntropy', 'wavelet-LHL_glcm_SumAverage', 'wavelet-LHL_glcm_SumEntropy', 'wavelet-LHL_gldm_DependenceEntropy', 'wavelet-LHL_gldm_DependenceNonUniformity', 'wavelet-LHL_gldm_DependenceNonUniformityNormalized', 'wavelet-LHL_gldm_DependenceVariance', 'wavelet-LHL_gldm_HighGrayLevelEmphasis', 'wavelet-LHL_gldm_LowGrayLevelEmphasis', 'wavelet-LHL_glrlm_GrayLevelNonUniformityNormalized', 'wavelet-LHL_glrlm_HighGrayLevelRunEmphasis', 'wavelet-LHL_glrlm_LowGrayLevelRunEmphasis', 'wavelet-LHL_glrlm_RunLengthNonUniformity', 'wavelet-LHL_glrlm_RunPercentage', 'wavelet-LHL_glrlm_RunVariance', 'wavelet-LHL_glszm_GrayLevelNonUniformity', 'wavelet-LHL_glszm_GrayLevelVariance', 'wavelet-LHL_glszm_LargeAreaEmphasis', 'wavelet-LHL_glszm_LargeAreaLowGrayLevelEmphasis', 'wavelet-LHL_glszm_SmallAreaHighGrayLevelEmphasis', 'wavelet-LHL_glszm_ZoneEntropy', 'wavelet-LHL_glszm_ZonePercentage', 'wavelet-LHL_ngtdm_Coarseness', 'wavelet-LHL_ngtdm_Strength', 'wavelet-LHH_firstorder_90Percentile', 'wavelet-LHH_firstorder_Energy', 'wavelet-LHH_firstorder_Kurtosis', 'wavelet-LHH_firstorder_Maximum', 'wavelet-LHH_firstorder_Mean', 'wavelet-LHH_firstorder_Skewness', 'wavelet-LHH_glcm_Correlation', 'wavelet-LHH_glcm_DifferenceVariance', 'wavelet-LHH_glcm_Idm', 'wavelet-LHH_glcm_Imc1', 'wavelet-LHH_glcm_Imc2', 'wavelet-LHH_glcm_InverseVariance', 'wavelet-LHH_glcm_JointAverage', 'wavelet-LHH_glcm_JointEnergy', 'wavelet-LHH_glcm_JointEntropy', 'wavelet-LHH_glcm_SumEntropy', 'wavelet-LHH_glcm_SumSquares', 'wavelet-LHH_gldm_DependenceEntropy', 'wavelet-LHH_gldm_DependenceNonUniformity', 'wavelet-LHH_gldm_DependenceNonUniformityNormalized', 'wavelet-LHH_gldm_DependenceVariance', 'wavelet-LHH_gldm_LowGrayLevelEmphasis', 'wavelet-LHH_gldm_SmallDependenceEmphasis', 'wavelet-LHH_gldm_SmallDependenceLowGrayLevelEmphasis', 'wavelet-LHH_glrlm_GrayLevelNonUniformityNormalized', 'wavelet-LHH_glrlm_GrayLevelVariance', 'wavelet-LHH_glrlm_HighGrayLevelRunEmphasis', 'wavelet-LHH_glrlm_LowGrayLevelRunEmphasis', 'wavelet-LHH_glrlm_RunEntropy', 'wavelet-LHH_glrlm_RunLengthNonUniformity', 'wavelet-LHH_glrlm_ShortRunEmphasis', 'wavelet-LHH_glrlm_ShortRunHighGrayLevelEmphasis', 'wavelet-LHH_glszm_GrayLevelVariance', 'wavelet-LHH_glszm_HighGrayLevelZoneEmphasis', 'wavelet-LHH_glszm_LargeAreaEmphasis', 'wavelet-LHH_glszm_LowGrayLevelZoneEmphasis', 'wavelet-LHH_glszm_SmallAreaEmphasis', 'wavelet-LHH_glszm_SmallAreaLowGrayLevelEmphasis', 'wavelet-LHH_glszm_ZonePercentage', 'wavelet-LHH_ngtdm_Coarseness', 'wavelet-LHH_ngtdm_Complexity', 'wavelet-HLL_firstorder_10Percentile', 'wavelet-HLL_firstorder_MeanAbsoluteDeviation', 'wavelet-HLL_firstorder_Minimum', 'wavelet-HLL_firstorder_Uniformity', 'wavelet-HLL_glcm_Autocorrelation', 'wavelet-HLL_glcm_ClusterProminence', 'wavelet-HLL_glcm_ClusterShade', 'wavelet-HLL_glcm_Correlation', 'wavelet-HLL_glcm_Id', 'wavelet-HLL_glcm_Imc2', 'wavelet-HLL_glcm_InverseVariance', 'wavelet-HLL_glcm_JointEnergy', 'wavelet-HLL_glcm_MCC', 'wavelet-HLL_glcm_MaximumProbability', 'wavelet-HLL_gldm_DependenceNonUniformityNormalized', 'wavelet-HLL_gldm_LowGrayLevelEmphasis', 'wavelet-HLL_glrlm_LongRunEmphasis', 'wavelet-HLL_glrlm_LongRunHighGrayLevelEmphasis', 'wavelet-HLL_glrlm_LongRunLowGrayLevelEmphasis', 'wavelet-HLL_glrlm_RunVariance', 'wavelet-HLL_glrlm_ShortRunHighGrayLevelEmphasis', 'wavelet-HLL_glszm_GrayLevelNonUniformityNormalized', 'wavelet-HLL_glszm_SizeZoneNonUniformity', 'wavelet-HLL_glszm_SizeZoneNonUniformityNormalized', 'wavelet-HLL_ngtdm_Strength', 'wavelet-HLH_firstorder_Mean', 'wavelet-HLH_firstorder_Median', 'wavelet-HLH_firstorder_Range', 'wavelet-HLH_firstorder_TotalEnergy', 'wavelet-HLH_glcm_Autocorrelation', 'wavelet-HLH_glcm_ClusterShade', 'wavelet-HLH_glcm_Correlation', 'wavelet-HLH_glcm_DifferenceVariance', 'wavelet-HLH_glcm_Imc2', 'wavelet-HLH_glcm_JointEnergy', 'wavelet-HLH_glcm_JointEntropy', 'wavelet-HLH_glcm_MCC', 'wavelet-HLH_glcm_MaximumProbability', 'wavelet-HLH_glcm_SumAverage', 'wavelet-HLH_glcm_SumEntropy', 'wavelet-HLH_glcm_SumSquares', 'wavelet-HLH_gldm_DependenceEntropy', 'wavelet-HLH_gldm_DependenceNonUniformity', 'wavelet-HLH_gldm_DependenceNonUniformityNormalized', 'wavelet-HLH_gldm_DependenceVariance', 'wavelet-HLH_gldm_HighGrayLevelEmphasis', 'wavelet-HLH_gldm_SmallDependenceEmphasis', 'wavelet-HLH_gldm_SmallDependenceHighGrayLevelEmphasis', 'wavelet-HLH_glrlm_HighGrayLevelRunEmphasis', 'wavelet-HLH_glrlm_LowGrayLevelRunEmphasis', 'wavelet-HLH_glrlm_ShortRunEmphasis', 'wavelet-HLH_glrlm_ShortRunLowGrayLevelEmphasis', 'wavelet-HLH_glszm_GrayLevelNonUniformityNormalized', 'wavelet-HLH_glszm_GrayLevelVariance', 'wavelet-HLH_glszm_LargeAreaEmphasis', 'wavelet-HLH_glszm_SizeZoneNonUniformity', 'wavelet-HLH_glszm_SmallAreaLowGrayLevelEmphasis', 'wavelet-HLH_ngtdm_Complexity', 'wavelet-HLH_ngtdm_Contrast', 'wavelet-HLH_ngtdm_Strength', 'wavelet-HHL_firstorder_Entropy', 'wavelet-HHL_firstorder_MeanAbsoluteDeviation', 'wavelet-HHL_firstorder_Median', 'wavelet-HHL_firstorder_Minimum', 'wavelet-HHL_firstorder_RootMeanSquared', 'wavelet-HHL_firstorder_Skewness', 'wavelet-HHL_firstorder_TotalEnergy', 'wavelet-HHL_firstorder_Uniformity', 'wavelet-HHL_firstorder_Variance', 'wavelet-HHL_glcm_ClusterTendency', 'wavelet-HHL_glcm_DifferenceVariance', 'wavelet-HHL_glcm_Id', 'wavelet-HHL_glcm_Idm', 'wavelet-HHL_glcm_Idmn', 'wavelet-HHL_glcm_Idn', 'wavelet-HHL_glcm_Imc1', 'wavelet-HHL_glcm_InverseVariance', 'wavelet-HHL_glcm_JointAverage', 'wavelet-HHL_glcm_JointEnergy', 'wavelet-HHL_glcm_JointEntropy', 'wavelet-HHL_glcm_SumAverage', 'wavelet-HHL_gldm_DependenceEntropy', 'wavelet-HHL_gldm_DependenceNonUniformityNormalized', 'wavelet-HHL_gldm_LargeDependenceHighGrayLevelEmphasis', 'wavelet-HHL_gldm_LargeDependenceLowGrayLevelEmphasis', 'wavelet-HHL_glrlm_GrayLevelNonUniformityNormalized', 'wavelet-HHL_glrlm_HighGrayLevelRunEmphasis', 'wavelet-HHL_glrlm_RunEntropy', 'wavelet-HHL_glrlm_RunLengthNonUniformity', 'wavelet-HHL_glrlm_RunLengthNonUniformityNormalized', 'wavelet-HHL_glrlm_RunVariance', 'wavelet-HHL_glrlm_ShortRunHighGrayLevelEmphasis', 'wavelet-HHL_glrlm_ShortRunLowGrayLevelEmphasis', 'wavelet-HHL_glszm_GrayLevelNonUniformity', 'wavelet-HHL_glszm_GrayLevelVariance', 'wavelet-HHL_glszm_HighGrayLevelZoneEmphasis', 'wavelet-HHL_glszm_SizeZoneNonUniformityNormalized', 'wavelet-HHL_glszm_ZoneEntropy', 'wavelet-HHL_glszm_ZonePercentage', 'wavelet-HHL_glszm_ZoneVariance', 'wavelet-HHL_ngtdm_Busyness', 'wavelet-HHL_ngtdm_Coarseness', 'wavelet-HHH_firstorder_10Percentile', 'wavelet-HHH_firstorder_Energy', 'wavelet-HHH_firstorder_InterquartileRange', 'wavelet-HHH_firstorder_Kurtosis', 'wavelet-HHH_firstorder_Mean', 'wavelet-HHH_firstorder_Skewness', 'wavelet-HHH_firstorder_TotalEnergy', 'wavelet-HHH_glcm_ClusterShade', 'wavelet-HHH_glcm_ClusterTendency', 'wavelet-HHH_glcm_Idmn', 'wavelet-HHH_glcm_JointAverage', 'wavelet-HHH_glcm_MaximumProbability', 'wavelet-HHH_glcm_SumEntropy', 'wavelet-HHH_gldm_DependenceNonUniformity', 'wavelet-HHH_gldm_GrayLevelNonUniformity', 'wavelet-HHH_gldm_HighGrayLevelEmphasis', 'wavelet-HHH_gldm_SmallDependenceEmphasis', 'wavelet-HHH_gldm_SmallDependenceHighGrayLevelEmphasis', 'wavelet-HHH_gldm_SmallDependenceLowGrayLevelEmphasis', 'wavelet-HHH_glrlm_HighGrayLevelRunEmphasis', 'wavelet-HHH_glrlm_LongRunHighGrayLevelEmphasis', 'wavelet-HHH_glrlm_LowGrayLevelRunEmphasis', 'wavelet-HHH_glrlm_RunEntropy', 'wavelet-HHH_glrlm_RunLengthNonUniformityNormalized', 'wavelet-HHH_glrlm_RunPercentage', 'wavelet-HHH_glrlm_RunVariance', 'wavelet-HHH_glrlm_ShortRunEmphasis', 'wavelet-HHH_glrlm_ShortRunHighGrayLevelEmphasis', 'wavelet-HHH_glszm_HighGrayLevelZoneEmphasis', 'wavelet-HHH_glszm_LargeAreaEmphasis', 'wavelet-HHH_glszm_LargeAreaHighGrayLevelEmphasis', 'wavelet-HHH_glszm_SizeZoneNonUniformityNormalized', 'wavelet-HHH_ngtdm_Strength', 'wavelet-LLL_firstorder_Energy', 'wavelet-LLL_firstorder_InterquartileRange', 'wavelet-LLL_firstorder_Kurtosis', 'wavelet-LLL_firstorder_Maximum', 'wavelet-LLL_firstorder_Mean', 'wavelet-LLL_firstorder_Median', 'wavelet-LLL_firstorder_RobustMeanAbsoluteDeviation', 'wavelet-LLL_firstorder_TotalEnergy', 'wavelet-LLL_firstorder_Variance', 'wavelet-LLL_glcm_ClusterTendency', 'wavelet-LLL_glcm_Contrast', 'wavelet-LLL_glcm_DifferenceAverage', 'wavelet-LLL_glcm_Id', 'wavelet-LLL_glcm_Idm', 'wavelet-LLL_glcm_Idn', 'wavelet-LLL_glcm_InverseVariance', 'wavelet-LLL_glcm_JointAverage', 'wavelet-LLL_glcm_JointEnergy', 'wavelet-LLL_glcm_JointEntropy', 'wavelet-LLL_glcm_SumEntropy', 'wavelet-LLL_glcm_SumSquares', 'wavelet-LLL_gldm_DependenceEntropy', 'wavelet-LLL_gldm_DependenceNonUniformity', 'wavelet-LLL_gldm_DependenceNonUniformityNormalized', 'wavelet-LLL_gldm_DependenceVariance', 'wavelet-LLL_gldm_GrayLevelNonUniformity', 'wavelet-LLL_gldm_SmallDependenceEmphasis', 'wavelet-LLL_gldm_SmallDependenceHighGrayLevelEmphasis', 'wavelet-LLL_gldm_SmallDependenceLowGrayLevelEmphasis', 'wavelet-LLL_glrlm_LongRunEmphasis', 'wavelet-LLL_glrlm_LongRunLowGrayLevelEmphasis', 'wavelet-LLL_glrlm_RunLengthNonUniformity', 'wavelet-LLL_glrlm_RunLengthNonUniformityNormalized', 'wavelet-LLL_glrlm_ShortRunEmphasis', 'wavelet-LLL_glrlm_ShortRunHighGrayLevelEmphasis', 'wavelet-LLL_glszm_GrayLevelNonUniformity', 'wavelet-LLL_glszm_LargeAreaEmphasis', 'wavelet-LLL_glszm_LargeAreaHighGrayLevelEmphasis', 'wavelet-LLL_glszm_LowGrayLevelZoneEmphasis', 'wavelet-LLL_glszm_SizeZoneNonUniformityNormalized', 'wavelet-LLL_glszm_SmallAreaEmphasis', 'wavelet-LLL_glszm_ZoneEntropy', 'wavelet-LLL_glszm_ZonePercentage', 'wavelet-LLL_glszm_ZoneVariance', 'wavelet-LLL_ngtdm_Contrast', 'log-sigma-1-0-mm-3D_firstorder_Energy', 'log-sigma-1-0-mm-3D_firstorder_Entropy', 'log-sigma-1-0-mm-3D_firstorder_Maximum', 'log-sigma-1-0-mm-3D_firstorder_Minimum', 'log-sigma-1-0-mm-3D_glcm_Autocorrelation', 'log-sigma-1-0-mm-3D_glcm_ClusterProminence', 'log-sigma-1-0-mm-3D_glcm_Correlation', 'log-sigma-1-0-mm-3D_glcm_Imc1', 'log-sigma-1-0-mm-3D_glcm_Imc2', 'log-sigma-1-0-mm-3D_glcm_JointEnergy', 'log-sigma-1-0-mm-3D_glcm_JointEntropy', 'log-sigma-1-0-mm-3D_glcm_MaximumProbability', 'log-sigma-1-0-mm-3D_gldm_DependenceNonUniformityNormalized', 'log-sigma-1-0-mm-3D_gldm_GrayLevelVariance', 'log-sigma-1-0-mm-3D_gldm_HighGrayLevelEmphasis', 'log-sigma-1-0-mm-3D_gldm_LargeDependenceEmphasis', 'log-sigma-1-0-mm-3D_gldm_LargeDependenceHighGrayLevelEmphasis', 'log-sigma-1-0-mm-3D_gldm_LowGrayLevelEmphasis', 'log-sigma-1-0-mm-3D_glrlm_LongRunEmphasis', 'log-sigma-1-0-mm-3D_glrlm_RunLengthNonUniformity', 'log-sigma-1-0-mm-3D_glrlm_RunPercentage', 'log-sigma-1-0-mm-3D_glrlm_RunVariance', 'log-sigma-1-0-mm-3D_glrlm_ShortRunEmphasis', 'log-sigma-1-0-mm-3D_glrlm_ShortRunHighGrayLevelEmphasis', 'log-sigma-1-0-mm-3D_glszm_GrayLevelVariance', 'log-sigma-1-0-mm-3D_glszm_LargeAreaEmphasis', 'log-sigma-1-0-mm-3D_glszm_LargeAreaLowGrayLevelEmphasis', 'log-sigma-1-0-mm-3D_glszm_SizeZoneNonUniformityNormalized', 'log-sigma-1-0-mm-3D_glszm_ZoneEntropy', 'log-sigma-1-0-mm-3D_glszm_ZoneVariance', 'log-sigma-1-0-mm-3D_ngtdm_Strength', 'log-sigma-2-0-mm-3D_firstorder_90Percentile', 'log-sigma-2-0-mm-3D_firstorder_InterquartileRange', 'log-sigma-2-0-mm-3D_firstorder_MeanAbsoluteDeviation', 'log-sigma-2-0-mm-3D_firstorder_RobustMeanAbsoluteDeviation', 'log-sigma-2-0-mm-3D_firstorder_Variance', 'log-sigma-2-0-mm-3D_glcm_ClusterProminence', 'log-sigma-2-0-mm-3D_glcm_Contrast', 'log-sigma-2-0-mm-3D_glcm_DifferenceAverage', 'log-sigma-2-0-mm-3D_glcm_DifferenceEntropy', 'log-sigma-2-0-mm-3D_glcm_DifferenceVariance', 'log-sigma-2-0-mm-3D_glcm_Id', 'log-sigma-2-0-mm-3D_glcm_Idmn', 'log-sigma-2-0-mm-3D_glcm_JointEnergy', 'log-sigma-2-0-mm-3D_glcm_JointEntropy', 'log-sigma-2-0-mm-3D_gldm_DependenceNonUniformity', 'log-sigma-2-0-mm-3D_gldm_DependenceVariance', 'log-sigma-2-0-mm-3D_gldm_GrayLevelNonUniformity', 'log-sigma-2-0-mm-3D_gldm_LargeDependenceLowGrayLevelEmphasis', 'log-sigma-2-0-mm-3D_gldm_SmallDependenceHighGrayLevelEmphasis', 'log-sigma-2-0-mm-3D_gldm_SmallDependenceLowGrayLevelEmphasis', 'log-sigma-2-0-mm-3D_glrlm_RunLengthNonUniformity', 'log-sigma-2-0-mm-3D_glrlm_RunLengthNonUniformityNormalized', 'log-sigma-2-0-mm-3D_glrlm_RunPercentage', 'log-sigma-2-0-mm-3D_glrlm_ShortRunHighGrayLevelEmphasis', 'log-sigma-2-0-mm-3D_glrlm_ShortRunLowGrayLevelEmphasis', 'log-sigma-2-0-mm-3D_glszm_GrayLevelNonUniformity', 'log-sigma-2-0-mm-3D_glszm_LargeAreaHighGrayLevelEmphasis', 'log-sigma-2-0-mm-3D_glszm_LargeAreaLowGrayLevelEmphasis', 'log-sigma-2-0-mm-3D_glszm_LowGrayLevelZoneEmphasis', 'log-sigma-2-0-mm-3D_glszm_SizeZoneNonUniformity', 'log-sigma-2-0-mm-3D_glszm_SizeZoneNonUniformityNormalized', 'log-sigma-2-0-mm-3D_glszm_ZonePercentage', 'log-sigma-2-0-mm-3D_glszm_ZoneVariance', 'log-sigma-2-0-mm-3D_ngtdm_Coarseness', 'log-sigma-2-0-mm-3D_ngtdm_Contrast', 'log-sigma-3-0-mm-3D_firstorder_Energy', 'log-sigma-3-0-mm-3D_firstorder_Entropy', 'log-sigma-3-0-mm-3D_firstorder_RootMeanSquared', 'log-sigma-3-0-mm-3D_firstorder_Skewness', 'log-sigma-3-0-mm-3D_firstorder_TotalEnergy', 'log-sigma-3-0-mm-3D_firstorder_Uniformity', 'log-sigma-3-0-mm-3D_glcm_ClusterProminence', 'log-sigma-3-0-mm-3D_glcm_ClusterShade', 'log-sigma-3-0-mm-3D_glcm_Id', 'log-sigma-3-0-mm-3D_glcm_Idmn', 'log-sigma-3-0-mm-3D_glcm_Imc1', 'log-sigma-3-0-mm-3D_glcm_JointAverage', 'log-sigma-3-0-mm-3D_glcm_MCC', 'log-sigma-3-0-mm-3D_gldm_GrayLevelNonUniformity', 'log-sigma-3-0-mm-3D_gldm_GrayLevelVariance', 'log-sigma-3-0-mm-3D_gldm_LargeDependenceLowGrayLevelEmphasis', 'log-sigma-3-0-mm-3D_gldm_SmallDependenceEmphasis', 'log-sigma-3-0-mm-3D_gldm_SmallDependenceHighGrayLevelEmphasis', 'log-sigma-3-0-mm-3D_gldm_SmallDependenceLowGrayLevelEmphasis', 'log-sigma-3-0-mm-3D_glrlm_RunLengthNonUniformity', 'log-sigma-3-0-mm-3D_glrlm_RunVariance', 'log-sigma-3-0-mm-3D_glrlm_ShortRunHighGrayLevelEmphasis', 'log-sigma-3-0-mm-3D_glrlm_ShortRunLowGrayLevelEmphasis', 'log-sigma-3-0-mm-3D_glszm_GrayLevelNonUniformity', 'log-sigma-3-0-mm-3D_glszm_GrayLevelNonUniformityNormalized', 'log-sigma-3-0-mm-3D_glszm_GrayLevelVariance', 'log-sigma-3-0-mm-3D_glszm_HighGrayLevelZoneEmphasis', 'log-sigma-3-0-mm-3D_glszm_LargeAreaEmphasis', 'log-sigma-3-0-mm-3D_glszm_LargeAreaLowGrayLevelEmphasis', 'log-sigma-3-0-mm-3D_glszm_SizeZoneNonUniformity', 'log-sigma-3-0-mm-3D_glszm_SizeZoneNonUniformityNormalized', 'log-sigma-3-0-mm-3D_glszm_SmallAreaHighGrayLevelEmphasis', 'log-sigma-3-0-mm-3D_glszm_ZonePercentage', 'log-sigma-3-0-mm-3D_glszm_ZoneVariance', 'log-sigma-3-0-mm-3D_ngtdm_Busyness', 'log-sigma-3-0-mm-3D_ngtdm_Coarseness', 'log-sigma-3-0-mm-3D_ngtdm_Complexity', 'log-sigma-3-0-mm-3D_ngtdm_Contrast', 'log-sigma-3-0-mm-3D_ngtdm_Strength', 'log-sigma-4-0-mm-3D_firstorder_Energy', 'log-sigma-4-0-mm-3D_firstorder_Entropy', 'log-sigma-4-0-mm-3D_firstorder_Maximum', 'log-sigma-4-0-mm-3D_firstorder_Uniformity', 'log-sigma-4-0-mm-3D_firstorder_Variance', 'log-sigma-4-0-mm-3D_glcm_ClusterProminence', 'log-sigma-4-0-mm-3D_glcm_ClusterShade', 'log-sigma-4-0-mm-3D_glcm_DifferenceAverage', 'log-sigma-4-0-mm-3D_glcm_JointAverage', 'log-sigma-4-0-mm-3D_glcm_MCC', 'log-sigma-4-0-mm-3D_glcm_SumAverage', 'log-sigma-4-0-mm-3D_gldm_GrayLevelVariance', 'log-sigma-4-0-mm-3D_gldm_LargeDependenceHighGrayLevelEmphasis', 'log-sigma-4-0-mm-3D_gldm_SmallDependenceEmphasis', 'log-sigma-4-0-mm-3D_glrlm_HighGrayLevelRunEmphasis', 'log-sigma-4-0-mm-3D_glrlm_LowGrayLevelRunEmphasis', 'log-sigma-4-0-mm-3D_glrlm_RunLengthNonUniformityNormalized', 'log-sigma-4-0-mm-3D_glszm_GrayLevelNonUniformity', 'log-sigma-4-0-mm-3D_glszm_LargeAreaHighGrayLevelEmphasis', 'log-sigma-4-0-mm-3D_glszm_LowGrayLevelZoneEmphasis', 'log-sigma-4-0-mm-3D_glszm_SmallAreaEmphasis', 'log-sigma-4-0-mm-3D_glszm_SmallAreaHighGrayLevelEmphasis', 'log-sigma-4-0-mm-3D_glszm_ZonePercentage', 'log-sigma-4-0-mm-3D_glszm_ZoneVariance', 'log-sigma-4-0-mm-3D_ngtdm_Complexity', 'log-sigma-5-0-mm-3D_firstorder_10Percentile', 'log-sigma-5-0-mm-3D_firstorder_Energy', 'log-sigma-5-0-mm-3D_firstorder_MeanAbsoluteDeviation', 'log-sigma-5-0-mm-3D_firstorder_Mean', 'log-sigma-5-0-mm-3D_firstorder_Minimum', 'log-sigma-5-0-mm-3D_firstorder_Skewness', 'log-sigma-5-0-mm-3D_glcm_ClusterProminence', 'log-sigma-5-0-mm-3D_glcm_Correlation', 'log-sigma-5-0-mm-3D_glcm_DifferenceVariance', 'log-sigma-5-0-mm-3D_glcm_Imc1', 'log-sigma-5-0-mm-3D_glcm_JointEnergy', 'log-sigma-5-0-mm-3D_glcm_MCC', 'log-sigma-5-0-mm-3D_glcm_SumEntropy', 'log-sigma-5-0-mm-3D_glcm_SumSquares', 'log-sigma-5-0-mm-3D_gldm_DependenceEntropy', 'log-sigma-5-0-mm-3D_gldm_DependenceNonUniformity', 'log-sigma-5-0-mm-3D_gldm_HighGrayLevelEmphasis', 'log-sigma-5-0-mm-3D_gldm_LargeDependenceEmphasis', 'log-sigma-5-0-mm-3D_gldm_LargeDependenceHighGrayLevelEmphasis', 'log-sigma-5-0-mm-3D_gldm_LargeDependenceLowGrayLevelEmphasis', 'log-sigma-5-0-mm-3D_gldm_SmallDependenceLowGrayLevelEmphasis', 'log-sigma-5-0-mm-3D_glrlm_GrayLevelNonUniformity', 'log-sigma-5-0-mm-3D_glrlm_LongRunEmphasis', 'log-sigma-5-0-mm-3D_glrlm_LongRunHighGrayLevelEmphasis', 'log-sigma-5-0-mm-3D_glrlm_RunEntropy', 'log-sigma-5-0-mm-3D_glrlm_RunVariance', 'log-sigma-5-0-mm-3D_glrlm_ShortRunEmphasis', 'log-sigma-5-0-mm-3D_glrlm_ShortRunLowGrayLevelEmphasis', 'log-sigma-5-0-mm-3D_glszm_LargeAreaLowGrayLevelEmphasis', 'log-sigma-5-0-mm-3D_glszm_SizeZoneNonUniformity', 'log-sigma-5-0-mm-3D_glszm_SizeZoneNonUniformityNormalized', 'log-sigma-5-0-mm-3D_glszm_SmallAreaEmphasis', 'log-sigma-5-0-mm-3D_glszm_SmallAreaLowGrayLevelEmphasis', 'log-sigma-5-0-mm-3D_glszm_ZonePercentage', 'log-sigma-5-0-mm-3D_glszm_ZoneVariance', 'log-sigma-5-0-mm-3D_ngtdm_Coarseness', 'log-sigma-5-0-mm-3D_ngtdm_Contrast', 'square_firstorder_10Percentile', 'square_firstorder_Kurtosis', 'square_firstorder_Mean', 'square_firstorder_Median', 'square_firstorder_Skewness', 'square_firstorder_TotalEnergy', 'square_glcm_Correlation', 'square_glcm_DifferenceAverage', 'square_glcm_Id', 'square_glcm_Idmn', 'square_glcm_MaximumProbability', 'square_glcm_SumSquares', 'square_gldm_DependenceVariance', 'square_gldm_LargeDependenceEmphasis', 'square_gldm_LowGrayLevelEmphasis', 'square_glrlm_GrayLevelNonUniformityNormalized', 'square_glrlm_LongRunHighGrayLevelEmphasis', 'square_glrlm_RunVariance', 'square_glrlm_ShortRunHighGrayLevelEmphasis', 'square_glszm_GrayLevelNonUniformity', 'square_glszm_LargeAreaHighGrayLevelEmphasis', 'square_glszm_LowGrayLevelZoneEmphasis', 'square_glszm_SizeZoneNonUniformity', 'square_glszm_SizeZoneNonUniformityNormalized', 'square_glszm_SmallAreaLowGrayLevelEmphasis', 'square_glszm_ZonePercentage', 'square_ngtdm_Complexity', 'square_ngtdm_Strength', 'squareroot_glcm_ClusterTendency', 'squareroot_glcm_Correlation', 'squareroot_glcm_DifferenceAverage', 'squareroot_glcm_DifferenceVariance', 'squareroot_glcm_Id', 'squareroot_glcm_SumEntropy', 'squareroot_glcm_SumSquares', 'squareroot_gldm_DependenceVariance', 'squareroot_gldm_GrayLevelNonUniformity', 'squareroot_gldm_SmallDependenceHighGrayLevelEmphasis', 'squareroot_glrlm_GrayLevelNonUniformityNormalized', 'squareroot_glrlm_GrayLevelVariance', 'squareroot_glrlm_RunEntropy', 'squareroot_glrlm_RunLengthNonUniformityNormalized', 'squareroot_glrlm_RunPercentage', 'squareroot_glrlm_RunVariance', 'squareroot_glrlm_ShortRunHighGrayLevelEmphasis', 'squareroot_glszm_GrayLevelNonUniformity', 'squareroot_glszm_GrayLevelNonUniformityNormalized', 'squareroot_glszm_LargeAreaHighGrayLevelEmphasis', 'squareroot_glszm_LowGrayLevelZoneEmphasis', 'squareroot_glszm_SizeZoneNonUniformityNormalized', 'squareroot_glszm_SmallAreaLowGrayLevelEmphasis', 'squareroot_glszm_ZoneVariance', 'squareroot_ngtdm_Busyness', 'logarithm_firstorder_90Percentile', 'logarithm_firstorder_Energy', 'logarithm_firstorder_InterquartileRange', 'logarithm_firstorder_MeanAbsoluteDeviation', 'logarithm_firstorder_Minimum', 'logarithm_firstorder_Range', 'logarithm_glcm_JointAverage', 'logarithm_glcm_JointEntropy', 'logarithm_glcm_SumAverage', 'logarithm_glcm_SumEntropy', 'logarithm_gldm_LargeDependenceLowGrayLevelEmphasis', 'logarithm_gldm_LowGrayLevelEmphasis', 'logarithm_glrlm_HighGrayLevelRunEmphasis', 'logarithm_glrlm_ShortRunLowGrayLevelEmphasis', 'logarithm_glszm_GrayLevelNonUniformity', 'logarithm_glszm_LargeAreaEmphasis', 'logarithm_glszm_SizeZoneNonUniformityNormalized', 'logarithm_glszm_SmallAreaEmphasis', 'logarithm_glszm_SmallAreaHighGrayLevelEmphasis', 'logarithm_ngtdm_Busyness', 'logarithm_ngtdm_Coarseness', 'logarithm_ngtdm_Strength', 'exponential_firstorder_90Percentile', 'exponential_firstorder_TotalEnergy', 'exponential_gldm_DependenceNonUniformity', 'exponential_gldm_DependenceNonUniformityNormalized', 'exponential_gldm_DependenceVariance', 'exponential_gldm_LargeDependenceLowGrayLevelEmphasis', 'exponential_gldm_SmallDependenceEmphasis', 'exponential_glrlm_LongRunEmphasis', 'exponential_glrlm_RunVariance', 'exponential_glrlm_ShortRunHighGrayLevelEmphasis', 'exponential_glszm_SizeZoneNonUniformity', 'exponential_ngtdm_Busyness', 'gradient_firstorder_90Percentile', 'gradient_firstorder_Energy', 'gradient_firstorder_Kurtosis', 'gradient_firstorder_Maximum', 'gradient_firstorder_Median', 'gradient_firstorder_Minimum', 'gradient_firstorder_RobustMeanAbsoluteDeviation', 'gradient_firstorder_RootMeanSquared', 'gradient_firstorder_Skewness', 'gradient_glcm_Autocorrelation', 'gradient_glcm_ClusterShade', 'gradient_glcm_DifferenceEntropy', 'gradient_glcm_Idm', 'gradient_glcm_Idmn', 'gradient_glcm_Imc2', 'gradient_glcm_MCC', 'gradient_gldm_DependenceNonUniformity', 'gradient_gldm_GrayLevelNonUniformity', 'gradient_gldm_LargeDependenceEmphasis', 'gradient_gldm_LargeDependenceLowGrayLevelEmphasis', 'gradient_gldm_LowGrayLevelEmphasis', 'gradient_gldm_SmallDependenceLowGrayLevelEmphasis', 'gradient_glrlm_GrayLevelNonUniformityNormalized', 'gradient_glrlm_LongRunEmphasis', 'gradient_glrlm_LongRunLowGrayLevelEmphasis', 'gradient_glrlm_RunEntropy', 'gradient_glrlm_RunPercentage', 'gradient_glrlm_ShortRunLowGrayLevelEmphasis', 'gradient_glszm_GrayLevelNonUniformityNormalized', 'gradient_glszm_GrayLevelVariance', 'gradient_glszm_HighGrayLevelZoneEmphasis', 'gradient_glszm_LargeAreaHighGrayLevelEmphasis', 'gradient_glszm_SizeZoneNonUniformityNormalized', 'gradient_glszm_SmallAreaEmphasis', 'gradient_glszm_SmallAreaLowGrayLevelEmphasis', 'gradient_ngtdm_Busyness', 'gradient_ngtdm_Contrast', 'lbp-2D_firstorder_Energy', 'lbp-2D_firstorder_Kurtosis', 'lbp-2D_firstorder_MeanAbsoluteDeviation', 'lbp-2D_firstorder_RobustMeanAbsoluteDeviation', 'lbp-2D_firstorder_Variance', 'lbp-2D_gldm_DependenceEntropy', 'lbp-2D_gldm_DependenceNonUniformity', 'lbp-2D_gldm_DependenceVariance', 'lbp-2D_gldm_GrayLevelNonUniformity', 'lbp-2D_gldm_LargeDependenceEmphasis', 'lbp-2D_gldm_LargeDependenceHighGrayLevelEmphasis', 'lbp-2D_gldm_LargeDependenceLowGrayLevelEmphasis', 'lbp-2D_gldm_SmallDependenceEmphasis', 'lbp-2D_gldm_SmallDependenceHighGrayLevelEmphasis', 'lbp-2D_gldm_SmallDependenceLowGrayLevelEmphasis', 'lbp-2D_glrlm_GrayLevelNonUniformity', 'lbp-2D_glrlm_LongRunEmphasis', 'lbp-2D_glrlm_LongRunHighGrayLevelEmphasis', 'lbp-2D_glrlm_RunLengthNonUniformityNormalized', 'lbp-2D_glrlm_ShortRunEmphasis', 'lbp-2D_glrlm_ShortRunHighGrayLevelEmphasis', 'lbp-2D_glrlm_ShortRunLowGrayLevelEmphasis', 'lbp-2D_glszm_LargeAreaLowGrayLevelEmphasis', 'lbp-2D_glszm_ZoneVariance', 'lbp-3D-m1_firstorder_Energy', 'lbp-3D-m1_firstorder_Kurtosis', 'lbp-3D-m1_firstorder_MeanAbsoluteDeviation', 'lbp-3D-m1_firstorder_RobustMeanAbsoluteDeviation', 'lbp-3D-m1_firstorder_TotalEnergy', 'lbp-3D-m1_gldm_DependenceEntropy', 'lbp-3D-m1_gldm_DependenceVariance', 'lbp-3D-m1_gldm_LargeDependenceEmphasis', 'lbp-3D-m1_gldm_LargeDependenceHighGrayLevelEmphasis', 'lbp-3D-m1_gldm_SmallDependenceEmphasis', 'lbp-3D-m1_gldm_SmallDependenceHighGrayLevelEmphasis', 'lbp-3D-m1_gldm_SmallDependenceLowGrayLevelEmphasis', 'lbp-3D-m1_glrlm_LongRunLowGrayLevelEmphasis', 'lbp-3D-m1_glrlm_RunLengthNonUniformity', 'lbp-3D-m1_glrlm_RunLengthNonUniformityNormalized', 'lbp-3D-m1_glrlm_RunPercentage', 'lbp-3D-m1_glrlm_ShortRunEmphasis', 'lbp-3D-m1_glrlm_ShortRunHighGrayLevelEmphasis', 'lbp-3D-m1_glrlm_ShortRunLowGrayLevelEmphasis', 'lbp-3D-m1_glszm_LargeAreaHighGrayLevelEmphasis', 'lbp-3D-m1_glszm_LargeAreaLowGrayLevelEmphasis', 'lbp-3D-m2_firstorder_10Percentile', 'lbp-3D-m2_firstorder_Energy', 'lbp-3D-m2_firstorder_InterquartileRange', 'lbp-3D-m2_firstorder_Kurtosis', 'lbp-3D-m2_firstorder_MeanAbsoluteDeviation', 'lbp-3D-m2_firstorder_TotalEnergy', 'lbp-3D-m2_firstorder_Variance', 'lbp-3D-m2_gldm_DependenceEntropy', 'lbp-3D-m2_gldm_DependenceNonUniformity', 'lbp-3D-m2_gldm_DependenceNonUniformityNormalized', 'lbp-3D-m2_gldm_GrayLevelNonUniformity', 'lbp-3D-m2_gldm_LargeDependenceEmphasis', 'lbp-3D-m2_gldm_LargeDependenceHighGrayLevelEmphasis', 'lbp-3D-m2_gldm_LargeDependenceLowGrayLevelEmphasis', 'lbp-3D-m2_gldm_SmallDependenceEmphasis', 'lbp-3D-m2_gldm_SmallDependenceHighGrayLevelEmphasis', 'lbp-3D-m2_gldm_SmallDependenceLowGrayLevelEmphasis', 'lbp-3D-m2_glrlm_LongRunEmphasis', 'lbp-3D-m2_glrlm_LongRunHighGrayLevelEmphasis', 'lbp-3D-m2_glrlm_RunEntropy', 'lbp-3D-m2_glrlm_RunLengthNonUniformityNormalized', 'lbp-3D-m2_glrlm_RunPercentage', 'lbp-3D-m2_glrlm_ShortRunEmphasis', 'lbp-3D-m2_glrlm_ShortRunHighGrayLevelEmphasis', 'lbp-3D-m2_glrlm_ShortRunLowGrayLevelEmphasis', 'lbp-3D-k_firstorder_Entropy', 'lbp-3D-k_firstorder_MeanAbsoluteDeviation', 'lbp-3D-k_firstorder_Median', 'lbp-3D-k_firstorder_RobustMeanAbsoluteDeviation', 'lbp-3D-k_firstorder_RootMeanSquared', 'lbp-3D-k_firstorder_Uniformity', 'lbp-3D-k_glcm_Autocorrelation', 'lbp-3D-k_glcm_ClusterProminence', 'lbp-3D-k_glcm_ClusterShade', 'lbp-3D-k_glcm_ClusterTendency', 'lbp-3D-k_glcm_Contrast', 'lbp-3D-k_glcm_DifferenceAverage', 'lbp-3D-k_glcm_DifferenceEntropy', 'lbp-3D-k_glcm_Id', 'lbp-3D-k_glcm_Idmn', 'lbp-3D-k_glcm_Imc1', 'lbp-3D-k_glcm_Imc2', 'lbp-3D-k_glcm_JointEnergy', 'lbp-3D-k_glcm_JointEntropy', 'lbp-3D-k_glcm_MCC', 'lbp-3D-k_glcm_SumAverage', 'lbp-3D-k_glcm_SumSquares', 'lbp-3D-k_gldm_DependenceEntropy', 'lbp-3D-k_gldm_DependenceVariance', 'lbp-3D-k_gldm_HighGrayLevelEmphasis', 'lbp-3D-k_gldm_LargeDependenceEmphasis', 'lbp-3D-k_gldm_LowGrayLevelEmphasis', 'lbp-3D-k_gldm_SmallDependenceEmphasis', 'lbp-3D-k_gldm_SmallDependenceLowGrayLevelEmphasis', 'lbp-3D-k_glrlm_HighGrayLevelRunEmphasis', 'lbp-3D-k_glrlm_LongRunEmphasis', 'lbp-3D-k_glrlm_LongRunHighGrayLevelEmphasis', 'lbp-3D-k_glrlm_ShortRunLowGrayLevelEmphasis', 'lbp-3D-k_glszm_GrayLevelNonUniformity', 'lbp-3D-k_glszm_GrayLevelVariance', 'lbp-3D-k_glszm_LargeAreaEmphasis', 'lbp-3D-k_glszm_LargeAreaHighGrayLevelEmphasis', 'lbp-3D-k_glszm_SmallAreaEmphasis', 'lbp-3D-k_glszm_SmallAreaLowGrayLevelEmphasis', 'lbp-3D-k_glszm_ZonePercentage', 'lbp-3D-k_glszm_ZoneVariance', 'lbp-3D-k_ngtdm_Busyness', 'lbp-3D-k_ngtdm_Complexity', 'lbp-3D-k_ngtdm_Contrast', 'lbp-3D-k_ngtdm_Strength']\n"
     ]
    }
   ],
   "source": [
    "from sklearn.feature_selection import SelectFromModel\n",
    "\n",
    "\n",
    "sel = SelectFromModel(RandomForestClassifier(n_estimators=100, random_state=2022))\n",
    "sel.fit(X_train_split, y_train_split)  # Fit on training data\n",
    "\n",
    "\n",
    "selected_features = X_train_split.columns[sel.get_support()]\n",
    "print(f\"Number of selected features: {len(selected_features)}\")\n",
    "print(\"Selected features:\", selected_features.tolist())\n",
    "\n",
    "X_train_filtered = X_train_split[selected_features]\n",
    "X_test_filtered = X_test_split[selected_features]"
   ]
  },
  {
   "cell_type": "code",
   "execution_count": 6,
   "metadata": {},
   "outputs": [],
   "source": [
    "best_svm_rbf = SVC(C=50, kernel='rbf', probability=True, random_state=2022)\n",
    "best_xgb_model = XGBClassifier(booster='gblinear', colsample_bytree=0.6, gamma=0.1, learning_rate=0.2,\n",
    "                                max_delta_step=1, max_depth=3, min_child_weight=3, n_estimators=97,\n",
    "                                reg_alpha=0.01, reg_lambda=10, subsample=0.6, random_state=2022)\n",
    "xgb_model = XGBClassifier(booster='dart', colsample_bytree=0.6, gamma=0.1, learning_rate=0.2,\n",
    "                          max_delta_step=1, max_depth=3, min_child_weight=5, n_estimators=97,\n",
    "                          reg_alpha=0.01, reg_lambda=10, subsample=0.6, eval_metric='mlogloss', random_state=2022)\n",
    "rf_model = RandomForestClassifier(n_estimators=75, max_depth=None, min_samples_split=10,\n",
    "                                   min_samples_leaf=4, random_state=2022)\n",
    "\n",
    "# Define stacking model\n",
    "estimator_list = [\n",
    "    ('SVM', best_svm_rbf),\n",
    "    ('XGB1', best_xgb_model),\n",
    "    ('RandomForest', rf_model)\n",
    "]"
   ]
  },
  {
   "cell_type": "code",
   "execution_count": 9,
   "metadata": {},
   "outputs": [
    {
     "name": "stderr",
     "output_type": "stream",
     "text": [
      "c:\\Users\\Diogo\\miniconda3\\envs\\Ambiente\\Lib\\site-packages\\xgboost\\core.py:158: UserWarning: [23:27:42] WARNING: C:\\buildkite-agent\\builds\\buildkite-windows-cpu-autoscaling-group-i-0c55ff5f71b100e98-1\\xgboost\\xgboost-ci-windows\\src\\learner.cc:740: \n",
      "Parameters: { \"colsample_bytree\", \"gamma\", \"max_delta_step\", \"max_depth\", \"min_child_weight\", \"subsample\" } are not used.\n",
      "\n",
      "  warnings.warn(smsg, UserWarning)\n",
      "c:\\Users\\Diogo\\miniconda3\\envs\\Ambiente\\Lib\\site-packages\\xgboost\\core.py:158: UserWarning: [23:27:43] WARNING: C:\\buildkite-agent\\builds\\buildkite-windows-cpu-autoscaling-group-i-0c55ff5f71b100e98-1\\xgboost\\xgboost-ci-windows\\src\\learner.cc:740: \n",
      "Parameters: { \"colsample_bytree\", \"gamma\", \"max_delta_step\", \"max_depth\", \"min_child_weight\", \"subsample\" } are not used.\n",
      "\n",
      "  warnings.warn(smsg, UserWarning)\n",
      "c:\\Users\\Diogo\\miniconda3\\envs\\Ambiente\\Lib\\site-packages\\xgboost\\core.py:158: UserWarning: [23:27:43] WARNING: C:\\buildkite-agent\\builds\\buildkite-windows-cpu-autoscaling-group-i-0c55ff5f71b100e98-1\\xgboost\\xgboost-ci-windows\\src\\learner.cc:740: \n",
      "Parameters: { \"colsample_bytree\", \"gamma\", \"max_delta_step\", \"max_depth\", \"min_child_weight\", \"subsample\" } are not used.\n",
      "\n",
      "  warnings.warn(smsg, UserWarning)\n",
      "c:\\Users\\Diogo\\miniconda3\\envs\\Ambiente\\Lib\\site-packages\\xgboost\\core.py:158: UserWarning: [23:27:44] WARNING: C:\\buildkite-agent\\builds\\buildkite-windows-cpu-autoscaling-group-i-0c55ff5f71b100e98-1\\xgboost\\xgboost-ci-windows\\src\\learner.cc:740: \n",
      "Parameters: { \"colsample_bytree\", \"gamma\", \"max_delta_step\", \"max_depth\", \"min_child_weight\", \"subsample\" } are not used.\n",
      "\n",
      "  warnings.warn(smsg, UserWarning)\n",
      "c:\\Users\\Diogo\\miniconda3\\envs\\Ambiente\\Lib\\site-packages\\xgboost\\core.py:158: UserWarning: [23:27:45] WARNING: C:\\buildkite-agent\\builds\\buildkite-windows-cpu-autoscaling-group-i-0c55ff5f71b100e98-1\\xgboost\\xgboost-ci-windows\\src\\learner.cc:740: \n",
      "Parameters: { \"colsample_bytree\", \"gamma\", \"max_delta_step\", \"max_depth\", \"min_child_weight\", \"subsample\" } are not used.\n",
      "\n",
      "  warnings.warn(smsg, UserWarning)\n",
      "c:\\Users\\Diogo\\miniconda3\\envs\\Ambiente\\Lib\\site-packages\\xgboost\\core.py:158: UserWarning: [23:27:45] WARNING: C:\\buildkite-agent\\builds\\buildkite-windows-cpu-autoscaling-group-i-0c55ff5f71b100e98-1\\xgboost\\xgboost-ci-windows\\src\\learner.cc:740: \n",
      "Parameters: { \"colsample_bytree\", \"gamma\", \"max_delta_step\", \"max_depth\", \"min_child_weight\", \"subsample\" } are not used.\n",
      "\n",
      "  warnings.warn(smsg, UserWarning)\n"
     ]
    }
   ],
   "source": [
    "from sklearn.metrics import f1_score\n",
    "\n",
    "\n",
    "estimator_list = [\n",
    "    ('SVM', best_svm_rbf),\n",
    "    ('XGB1', best_xgb_model),\n",
    "    ('RandomForest', rf_model)\n",
    "]\n",
    "\n",
    "stack_model = StackingClassifier(estimators=estimator_list, final_estimator=LogisticRegression())\n",
    "\n",
<<<<<<< HEAD
    "best_model = stack_model.fit(X_train_filtered, y_train_split)\n",
    "\n",
    "y_train = stack_model.predict(X_train_filtered)\n",
    "y_pred = stack_model.predict(X_test_filtered)\n",
=======
    "best_model = stack_model.fit(X_train_split, y_train_split)\n",
    "\n",
    "y_train = stack_model.predict(X_train_split)\n",
    "y_pred = stack_model.predict(X_test_split)\n",
>>>>>>> 0f2cc5b128e0b787e73412d7f7af89762dbf1411
    "\n",
    "stack_model_train_accuracy = accuracy_score(y_train_split, y_train)\n",
    "stack_model_train_f1 = f1_score(y_train_split, y_train, average='weighted')\n",
    "stack_model_accuracy = accuracy_score(y_test_split, y_pred)\n",
    "stack_model_f1 = f1_score(y_test_split, y_pred, average='weighted')\n"
   ]
  },
  {
   "cell_type": "code",
   "execution_count": 10,
   "metadata": {},
   "outputs": [
    {
     "name": "stdout",
     "output_type": "stream",
     "text": [
      "Model performance for Training set\n",
      "- Accuracy: 0.5778688524590164\n",
      "- F1 score: 0.5357240260799938\n",
      "----------------------------------\n",
      "Model performance for Test set\n",
      "- Accuracy: 0.4262295081967213\n",
      "- F1 score: 0.34290842283776146\n"
     ]
    }
   ],
   "source": [
    "print('Model performance for Training set')\n",
    "print('- Accuracy: %s' % stack_model_train_accuracy)\n",
    "print('- F1 score: %s' % stack_model_train_f1)\n",
    "print('----------------------------------')\n",
    "print('Model performance for Test set')\n",
    "print('- Accuracy: %s' % stack_model_accuracy)\n",
    "print('- F1 score: %s' % stack_model_f1)"
   ]
  },
  {
   "cell_type": "code",
   "execution_count": null,
   "metadata": {},
   "outputs": [],
   "source": [
    "print(\"Training features:\", X_train_split.columns.tolist())\n",
    "print(\"Test features:\", X_test.columns.tolist())\n",
    "missing_in_test = set(X_train_split.columns) - set(X_test.columns)\n",
    "extra_in_test = set(X_test.columns) - set(X_train_split.columns)\n",
    "print(\"Missing in test:\", missing_in_test)\n",
    "print(\"Extra in test:\", extra_in_test)"
   ]
  },
  {
   "cell_type": "code",
   "execution_count": 13,
   "metadata": {},
   "outputs": [
    {
     "name": "stdout",
     "output_type": "stream",
     "text": [
      "Submissão salva com sucesso com exatamente 100 previsões.\n"
     ]
    }
   ],
   "source": [
<<<<<<< HEAD
    "# Prepare the test dataset (remove 'ID' if it exists)\n",
    "# Prepare the test dataset (remove 'ID' if it exists)\n",
    "\n",
    "if X_test_filtered.shape[0] > 100:\n",
    "    X_test_filtered = X_test_filtered.iloc[:100]\n",
    "elif X_test_filtered.shape[0] < 100:\n",
    "    additional_rows = X_test_filtered.sample(n=100 - X_test_filtered.shape[0], replace=True, random_state=2022)\n",
    "    X_test_filtered = pd.concat([X_test_filtered, additional_rows], ignore_index=True)\n",
    "\n",
    "\n",
    "# Predict using the trained model\n",
    "predictions = best_model.predict(X_test_filtered)\n",
    "\n",
    "# Map predictions back to class names\n",
    "predictions_mapped = pd.Series(predictions).map({v: k for k, v in mapping.items()})\n",
    "\n",
    "# Create the submission DataFrame\n",
=======
    "X_test = hipp_test_c.drop(columns=['ID'], errors='ignore')\n",
    "predictions_mapped = pd.Series(best_model.predict(X_test)).map({v: k for k, v in mapping.items()})\n",
    "\n",
    "# Criar o DataFrame de submissão\n",
>>>>>>> 0f2cc5b128e0b787e73412d7f7af89762dbf1411
    "submission_df = pd.DataFrame({\n",
    "    'RowId': range(1, len(predictions_mapped) + 1),\n",
    "    'Result': predictions_mapped\n",
    "})\n",
    "\n",
<<<<<<< HEAD
    "# Save the submission to a CSV file\n",
    "submission_df.to_csv('submissionXGBBayesiana2.csv', index=False)\n",
    "print(f\"Submissão salva com sucesso com exatamente {len(submission_df)} previsões.\")\n",
    "\n"
=======
    "# Salvar a submissão\n",
    "submission_df.to_csv('stacking.csv', index=False)\n",
    "print(f\"Submissão salva com sucesso com exatamente {len(submission_df)} previsões.\")\n"
>>>>>>> 0f2cc5b128e0b787e73412d7f7af89762dbf1411
   ]
  }
 ],
 "metadata": {
  "kernelspec": {
   "display_name": "Ambiente",
   "language": "python",
   "name": "python3"
  },
  "language_info": {
   "name": "python",
   "version": "3.12.4"
  }
 },
 "nbformat": 4,
 "nbformat_minor": 2
}
